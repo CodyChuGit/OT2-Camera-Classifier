from tensorflow.keras.models import load_model
model.save(os.path.join('/Users/codychu/Projects/Machine_Learning/models/labwareclassifier.h5'))
new_model = load_model('/Users/codychu/Projects/Machine_Learning/models/labwareclassifier.h5')
new_model.predict(np.expand_dims(resize/255, 0))
if yhat > 0.5: 
    print(f'Predicted class is Labware')
else:
    print(f'Predicted class is Empty')
